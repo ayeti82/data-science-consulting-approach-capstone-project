{
 "cells": [
  {
   "cell_type": "markdown",
   "id": "06cd635b",
   "metadata": {},
   "source": [
    "<center><h1>Modeling & Prediction</h1></center>  \n",
    "<center><h6>AI-Powered Price Optimization</h6></center>  \n",
    "\n",
    "This notebook represents the third stage of our **Airbnb Smart Pricing project** ETL pipeline. Having prepared and cleaned our dataset, we now focus on building a machine learning model that predicts the optimal nightly price for Airbnb listings. The goal is to develop a model that provides pricing recommendations with real business value. These predictions will feed into the final dashboard and business pitch.\n"
   ]
  },
  {
   "cell_type": "code",
   "execution_count": 1,
   "id": "12058fd8",
   "metadata": {},
   "outputs": [],
   "source": [
    "# Load necessary libraries\n",
    "import pandas as pd\n",
    "import numpy as np\n",
    "\n",
    "import seaborn as sns\n",
    "import matplotlib.pyplot as plt\n",
    "from tqdm import tqdm\n",
    "\n",
    "from sklearn.feature_selection import VarianceThreshold\n",
    "\n",
    "\n",
    "from sklearn.tree import DecisionTreeRegressor\n",
    "from sklearn.svm import SVR\n",
    "from sklearn.neighbors import KNeighborsRegressor\n",
    "from sklearn.neural_network import MLPRegressor\n",
    "from sklearn.ensemble import RandomForestRegressor\n",
    "from sklearn.linear_model import (LinearRegression, Lasso, Ridge, ElasticNet)\n",
    "\n",
    "from sklearn.model_selection import train_test_split, cross_val_score,GridSearchCV\n",
    "from sklearn.metrics import mean_absolute_error, mean_squared_error, r2_score, mean_absolute_percentage_error, make_scorer"
   ]
  },
  {
   "cell_type": "code",
   "execution_count": 2,
   "id": "af24e1c1",
   "metadata": {},
   "outputs": [
    {
     "data": {
      "text/html": [
       "<div>\n",
       "<style scoped>\n",
       "    .dataframe tbody tr th:only-of-type {\n",
       "        vertical-align: middle;\n",
       "    }\n",
       "\n",
       "    .dataframe tbody tr th {\n",
       "        vertical-align: top;\n",
       "    }\n",
       "\n",
       "    .dataframe thead th {\n",
       "        text-align: right;\n",
       "    }\n",
       "</style>\n",
       "<table border=\"1\" class=\"dataframe\">\n",
       "  <thead>\n",
       "    <tr style=\"text-align: right;\">\n",
       "      <th></th>\n",
       "      <th>latitude</th>\n",
       "      <th>longitude</th>\n",
       "      <th>accommodates</th>\n",
       "      <th>bathrooms</th>\n",
       "      <th>bedrooms</th>\n",
       "      <th>beds</th>\n",
       "      <th>price</th>\n",
       "      <th>minimum_nights</th>\n",
       "      <th>availability_30</th>\n",
       "      <th>review_scores_rating</th>\n",
       "      <th>...</th>\n",
       "      <th>neighbourhood_cleansed_South Kohala</th>\n",
       "      <th>neighbourhood_cleansed_South Kona</th>\n",
       "      <th>neighbourhood_cleansed_Waianae</th>\n",
       "      <th>neighbourhood_cleansed_Wailuku-Kahului</th>\n",
       "      <th>neighbourhood_cleansed_Waimea-Kekaha</th>\n",
       "      <th>amenities_count</th>\n",
       "      <th>avg_price_calendar</th>\n",
       "      <th>availability_ratio</th>\n",
       "      <th>review_count</th>\n",
       "      <th>days_since_last_review</th>\n",
       "    </tr>\n",
       "  </thead>\n",
       "  <tbody>\n",
       "    <tr>\n",
       "      <th>0</th>\n",
       "      <td>-1.894330</td>\n",
       "      <td>1.477264</td>\n",
       "      <td>-1.513788</td>\n",
       "      <td>-0.700078</td>\n",
       "      <td>-0.402413</td>\n",
       "      <td>-1.372894</td>\n",
       "      <td>-1.242219</td>\n",
       "      <td>0.346509</td>\n",
       "      <td>-0.114232</td>\n",
       "      <td>-0.544188</td>\n",
       "      <td>...</td>\n",
       "      <td>1</td>\n",
       "      <td>0</td>\n",
       "      <td>0</td>\n",
       "      <td>0</td>\n",
       "      <td>0</td>\n",
       "      <td>-0.286168</td>\n",
       "      <td>-0.793186</td>\n",
       "      <td>1.298186</td>\n",
       "      <td>0.479727</td>\n",
       "      <td>-0.552649</td>\n",
       "    </tr>\n",
       "    <tr>\n",
       "      <th>1</th>\n",
       "      <td>-0.697677</td>\n",
       "      <td>0.864485</td>\n",
       "      <td>-0.193471</td>\n",
       "      <td>1.019197</td>\n",
       "      <td>-0.402413</td>\n",
       "      <td>-0.260762</td>\n",
       "      <td>-0.640254</td>\n",
       "      <td>0.945800</td>\n",
       "      <td>0.461307</td>\n",
       "      <td>-1.090219</td>\n",
       "      <td>...</td>\n",
       "      <td>0</td>\n",
       "      <td>0</td>\n",
       "      <td>0</td>\n",
       "      <td>0</td>\n",
       "      <td>0</td>\n",
       "      <td>1.312864</td>\n",
       "      <td>-0.700656</td>\n",
       "      <td>1.161081</td>\n",
       "      <td>2.393720</td>\n",
       "      <td>-0.524304</td>\n",
       "    </tr>\n",
       "    <tr>\n",
       "      <th>2</th>\n",
       "      <td>-0.365539</td>\n",
       "      <td>0.679947</td>\n",
       "      <td>-0.193471</td>\n",
       "      <td>-0.700078</td>\n",
       "      <td>-0.402413</td>\n",
       "      <td>-0.260762</td>\n",
       "      <td>-0.292130</td>\n",
       "      <td>-0.252782</td>\n",
       "      <td>-0.459555</td>\n",
       "      <td>-2.045773</td>\n",
       "      <td>...</td>\n",
       "      <td>0</td>\n",
       "      <td>0</td>\n",
       "      <td>0</td>\n",
       "      <td>0</td>\n",
       "      <td>0</td>\n",
       "      <td>0.913106</td>\n",
       "      <td>-0.238005</td>\n",
       "      <td>0.165822</td>\n",
       "      <td>-0.330039</td>\n",
       "      <td>1.173551</td>\n",
       "    </tr>\n",
       "    <tr>\n",
       "      <th>3</th>\n",
       "      <td>1.280089</td>\n",
       "      <td>-1.771513</td>\n",
       "      <td>-0.193471</td>\n",
       "      <td>1.019197</td>\n",
       "      <td>2.224939</td>\n",
       "      <td>1.963500</td>\n",
       "      <td>0.005226</td>\n",
       "      <td>-0.852073</td>\n",
       "      <td>-0.229339</td>\n",
       "      <td>-0.612442</td>\n",
       "      <td>...</td>\n",
       "      <td>0</td>\n",
       "      <td>0</td>\n",
       "      <td>0</td>\n",
       "      <td>0</td>\n",
       "      <td>1</td>\n",
       "      <td>-0.019662</td>\n",
       "      <td>-0.083788</td>\n",
       "      <td>-0.053730</td>\n",
       "      <td>2.798603</td>\n",
       "      <td>-0.393918</td>\n",
       "    </tr>\n",
       "    <tr>\n",
       "      <th>4</th>\n",
       "      <td>-0.484509</td>\n",
       "      <td>0.827384</td>\n",
       "      <td>-0.193471</td>\n",
       "      <td>-0.700078</td>\n",
       "      <td>0.911263</td>\n",
       "      <td>-0.260762</td>\n",
       "      <td>-0.516960</td>\n",
       "      <td>2.743672</td>\n",
       "      <td>0.346199</td>\n",
       "      <td>-2.182281</td>\n",
       "      <td>...</td>\n",
       "      <td>0</td>\n",
       "      <td>0</td>\n",
       "      <td>0</td>\n",
       "      <td>1</td>\n",
       "      <td>0</td>\n",
       "      <td>-0.752552</td>\n",
       "      <td>0.403538</td>\n",
       "      <td>1.152195</td>\n",
       "      <td>0.700573</td>\n",
       "      <td>-0.453442</td>\n",
       "    </tr>\n",
       "  </tbody>\n",
       "</table>\n",
       "<p>5 rows × 128 columns</p>\n",
       "</div>"
      ],
      "text/plain": [
       "   latitude  longitude  accommodates  bathrooms  bedrooms      beds     price  \\\n",
       "0 -1.894330   1.477264     -1.513788  -0.700078 -0.402413 -1.372894 -1.242219   \n",
       "1 -0.697677   0.864485     -0.193471   1.019197 -0.402413 -0.260762 -0.640254   \n",
       "2 -0.365539   0.679947     -0.193471  -0.700078 -0.402413 -0.260762 -0.292130   \n",
       "3  1.280089  -1.771513     -0.193471   1.019197  2.224939  1.963500  0.005226   \n",
       "4 -0.484509   0.827384     -0.193471  -0.700078  0.911263 -0.260762 -0.516960   \n",
       "\n",
       "   minimum_nights  availability_30  review_scores_rating  ...  \\\n",
       "0        0.346509        -0.114232             -0.544188  ...   \n",
       "1        0.945800         0.461307             -1.090219  ...   \n",
       "2       -0.252782        -0.459555             -2.045773  ...   \n",
       "3       -0.852073        -0.229339             -0.612442  ...   \n",
       "4        2.743672         0.346199             -2.182281  ...   \n",
       "\n",
       "   neighbourhood_cleansed_South Kohala  neighbourhood_cleansed_South Kona  \\\n",
       "0                                    1                                  0   \n",
       "1                                    0                                  0   \n",
       "2                                    0                                  0   \n",
       "3                                    0                                  0   \n",
       "4                                    0                                  0   \n",
       "\n",
       "   neighbourhood_cleansed_Waianae  neighbourhood_cleansed_Wailuku-Kahului  \\\n",
       "0                               0                                       0   \n",
       "1                               0                                       0   \n",
       "2                               0                                       0   \n",
       "3                               0                                       0   \n",
       "4                               0                                       1   \n",
       "\n",
       "   neighbourhood_cleansed_Waimea-Kekaha  amenities_count  avg_price_calendar  \\\n",
       "0                                     0        -0.286168           -0.793186   \n",
       "1                                     0         1.312864           -0.700656   \n",
       "2                                     0         0.913106           -0.238005   \n",
       "3                                     1        -0.019662           -0.083788   \n",
       "4                                     0        -0.752552            0.403538   \n",
       "\n",
       "   availability_ratio  review_count  days_since_last_review  \n",
       "0            1.298186      0.479727               -0.552649  \n",
       "1            1.161081      2.393720               -0.524304  \n",
       "2            0.165822     -0.330039                1.173551  \n",
       "3           -0.053730      2.798603               -0.393918  \n",
       "4            1.152195      0.700573               -0.453442  \n",
       "\n",
       "[5 rows x 128 columns]"
      ]
     },
     "execution_count": 2,
     "metadata": {},
     "output_type": "execute_result"
    }
   ],
   "source": [
    "# Load preprocessed dataset\n",
    "airbnb = pd.read_csv(\"../data/processed/airbnb_preprocessed.csv\")\n",
    "airbnb.head(5)"
   ]
  },
  {
   "cell_type": "code",
   "execution_count": 5,
   "id": "4532d901",
   "metadata": {},
   "outputs": [],
   "source": [
    "# Define target and features\n",
    "target = 'price'\n",
    "X = airbnb.drop(columns=target)\n",
    "y = airbnb[target]"
   ]
  },
  {
   "cell_type": "code",
   "execution_count": 6,
   "id": "abf55dd9",
   "metadata": {},
   "outputs": [
    {
     "name": "stdout",
     "output_type": "stream",
     "text": [
      "X_train shape: (9775, 127)\n",
      "y_train shape: (9775,)\n",
      "X_val shape: (1955, 127)\n",
      "y_val shape: (1955,)\n",
      "X_test shape: (489, 127)\n",
      "y_test shape: (489,)\n"
     ]
    }
   ],
   "source": [
    "# Train-test split\n",
    "X_train, X_temp, y_train, y_temp = train_test_split(X, y, test_size=0.2, random_state=42)\n",
    "X_val, X_test, y_val, y_test = train_test_split(X_temp, y_temp, test_size=0.2, random_state=42)\n",
    "\n",
    "print(\"X_train shape:\", X_train.shape)\n",
    "print(\"y_train shape:\", y_train.shape)\n",
    "print(\"X_val shape:\", X_val.shape)\n",
    "print(\"y_val shape:\", y_val.shape)\n",
    "print(\"X_test shape:\", X_test.shape)\n",
    "print(\"y_test shape:\", y_test.shape)"
   ]
  },
  {
   "cell_type": "code",
   "execution_count": 22,
   "id": "e19c32ab",
   "metadata": {},
   "outputs": [
    {
     "name": "stderr",
     "output_type": "stream",
     "text": [
      "Training models: 100%|████████████████████████████████████████████████████████████████| 3/3 [02:12<00:00, 44.06s/model]"
     ]
    },
    {
     "name": "stdout",
     "output_type": "stream",
     "text": [
      "Training Scores:\n",
      "                            MAPE        R2       MAE      RMSE   CV_MAPE\n",
      "LinearRegression       2.652732  0.567159  0.475641  0.657651  2.676024\n",
      "Ridge                  2.646056  0.566368  0.476116  0.658251  2.665954\n",
      "RandomForestRegressor  0.778566  0.957517  0.135579  0.206034  2.026281\n",
      "\n",
      "Validation Scores:\n",
      "                            MAPE        R2       MAE      RMSE\n",
      "LinearRegression       3.264038  0.568517  0.487286  0.656312\n",
      "Ridge                  3.275392  0.569634  0.487040  0.655462\n",
      "RandomForestRegressor  2.524770  0.696021  0.375373  0.550871\n"
     ]
    },
    {
     "name": "stderr",
     "output_type": "stream",
     "text": [
      "\n"
     ]
    }
   ],
   "source": [
    "# Define models\n",
    "models = [\n",
    "    LinearRegression(),\n",
    "    Ridge(),\n",
    "    RandomForestRegressor()\n",
    "]\n",
    "\n",
    "train_scores = {}\n",
    "val_scores = {}\n",
    "\n",
    "# Train and evaluate\n",
    "for model in tqdm(models, desc=\"Training models\", unit=\"model\"):\n",
    "    name = model.__class__.__name__\n",
    "    model.fit(X_train, y_train)\n",
    "\n",
    "    y_train_pred = model.predict(X_train)\n",
    "    y_val_pred = model.predict(X_val)\n",
    "\n",
    "    train_scores[name] = {\n",
    "        'MAPE': mean_absolute_percentage_error(y_train, y_train_pred),\n",
    "        'R2': r2_score(y_train, y_train_pred),\n",
    "        'MAE': mean_absolute_error(y_train, y_train_pred),\n",
    "        'RMSE': np.sqrt(mean_squared_error(y_train, y_train_pred)),\n",
    "        'CV_MAPE': -cross_val_score(model, X_train, y_train, scoring='neg_mean_absolute_percentage_error', cv=5).mean()\n",
    "    }\n",
    "\n",
    "    val_scores[name] = {\n",
    "        'MAPE': mean_absolute_percentage_error(y_val, y_val_pred),\n",
    "        'R2': r2_score(y_val, y_val_pred),\n",
    "        'MAE': mean_absolute_error(y_val, y_val_pred),\n",
    "        'RMSE': np.sqrt(mean_squared_error(y_val, y_val_pred))\n",
    "    }\n",
    "    \n",
    "\n",
    "# Convert to DataFrame for comparison\n",
    "train_scores_df = pd.DataFrame(train_scores).T\n",
    "val_scores_df = pd.DataFrame(val_scores).T\n",
    "\n",
    "print(\"Training Scores:\\n\", train_scores_df)\n",
    "print(\"\\nValidation Scores:\\n\", val_scores_df)"
   ]
  },
  {
   "cell_type": "code",
   "execution_count": 23,
   "id": "00e2aeb5",
   "metadata": {},
   "outputs": [],
   "source": [
    "results_df = val_scores_df[['MAPE', 'R2', 'MAE', 'RMSE']].rename(columns=lambda x: f\"Val_{x}\")\n",
    "results_df.reset_index(inplace=True)\n",
    "results_df.rename(columns={'index': 'Model'}, inplace=True)"
   ]
  },
  {
   "cell_type": "code",
   "execution_count": 24,
   "id": "5ed121d5",
   "metadata": {},
   "outputs": [
    {
     "data": {
      "image/png": "[encoded data removed]",
      "text/plain": [
       "<Figure size 720x360 with 1 Axes>"
      ]
     },
     "metadata": {
      "needs_background": "light"
     },
     "output_type": "display_data"
    }
   ],
   "source": [
    "melted = results_df.melt(id_vars='Model', var_name='Metric', value_name='Score')\n",
    "melted['Score'] = melted.groupby('Metric')['Score'].transform(lambda x: (x - x.min()) / (x.max() - x.min()))\n",
    "\n",
    "# Plot\n",
    "plt.figure(figsize=(10, 5))\n",
    "sns.barplot(data=results_df.melt(id_vars='Model'), x='Model', y='value', hue='variable')\n",
    "plt.title(\"Model Comparison\")\n",
    "plt.ylabel(\"Error / Score\")\n",
    "plt.xticks(rotation=0)\n",
    "plt.tight_layout()\n",
    "plt.show()"
   ]
  },
  {
   "cell_type": "code",
   "execution_count": 27,
   "id": "69341258",
   "metadata": {},
   "outputs": [
    {
     "data": {
      "image/png": "[encoded data removed]",
      "text/plain": [
       "<Figure size 576x360 with 1 Axes>"
      ]
     },
     "metadata": {
      "needs_background": "light"
     },
     "output_type": "display_data"
    }
   ],
   "source": [
    "# Choose best model manually or based on R²\n",
    "best_model = models[2]\n",
    "\n",
    "importances = pd.Series(best_model.feature_importances_, index=X.columns)\n",
    "top_features = importances.sort_values(ascending=False).head(10)\n",
    "\n",
    "plt.figure(figsize=(8, 5))\n",
    "sns.barplot(x=top_features.values, y=top_features.index)\n",
    "plt.title(\"Top 10 Important Features\")\n",
    "plt.xlabel(\"Feature Importance Score\")\n",
    "plt.tight_layout()\n",
    "plt.show()"
   ]
  },
  {
   "cell_type": "code",
   "execution_count": 30,
   "id": "64b42a97",
   "metadata": {},
   "outputs": [
    {
     "name": "stderr",
     "output_type": "stream",
     "text": [
      "Testing models: 100%|█████████████████████████████████████████████████████████████████| 3/3 [00:33<00:00, 11.09s/model]"
     ]
    },
    {
     "name": "stdout",
     "output_type": "stream",
     "text": [
      "Training Scores:\n",
      "                            MAPE        R2       MAE      RMSE\n",
      "LinearRegression       3.285625  0.599198  0.475681  0.637768\n",
      "Ridge                  3.287876  0.599179  0.474944  0.637782\n",
      "RandomForestRegressor  1.813258  0.719918  0.362593  0.533139\n"
     ]
    },
    {
     "name": "stderr",
     "output_type": "stream",
     "text": [
      "\n"
     ]
    }
   ],
   "source": [
    "# Define models\n",
    "models = [\n",
    "    LinearRegression(),\n",
    "    Ridge(),\n",
    "    RandomForestRegressor()\n",
    "]\n",
    "\n",
    "test_scores = {}\n",
    "\n",
    "# Test and evaluate\n",
    "for model in tqdm(models, desc=\"Testing models\", unit=\"model\"):\n",
    "    name = model.__class__.__name__\n",
    "    model.fit(X_train, y_train)\n",
    "\n",
    "    y_test_pred = model.predict(X_test)\n",
    "    \n",
    "    test_scores[name] = {\n",
    "        'MAPE': mean_absolute_percentage_error(y_test, y_test_pred),\n",
    "        'R2': r2_score(y_test, y_test_pred),\n",
    "        'MAE': mean_absolute_error(y_test, y_test_pred),\n",
    "        'RMSE': np.sqrt(mean_squared_error(y_test, y_test_pred))\n",
    "    }\n",
    "\n",
    "# Convert to DataFrame for comparison\n",
    "test_scores_df = pd.DataFrame(test_scores).T\n",
    "\n",
    "print(\"Training Scores:\\n\", test_scores_df)"
   ]
  }
 ],
 "metadata": {
  "kernelspec": {
   "display_name": "Python 3",
   "language": "python",
   "name": "python3"
  },
  "language_info": {
   "codemirror_mode": {
    "name": "ipython",
    "version": 3
   },
   "file_extension": ".py",
   "mimetype": "text/x-python",
   "name": "python",
   "nbconvert_exporter": "python",
   "pygments_lexer": "ipython3",
   "version": "3.9.4"
  }
 },
 "nbformat": 4,
 "nbformat_minor": 5
}
